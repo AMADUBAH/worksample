{
  "nbformat": 4,
  "nbformat_minor": 0,
  "metadata": {
    "colab": {
      "name": "2_example_answer.ipynb",
      "provenance": []
    },
    "kernelspec": {
      "name": "python3",
      "display_name": "Python 3"
    },
    "language_info": {
      "name": "python"
    }
  },
  "cells": [
    {
      "cell_type": "markdown",
      "source": [
        "Create an application that use the exponentiation arithmetic operator. As a starting point, we created a code that determines the thickness of a sheet of paper after it has been folded once. Rewrite the code to compute the thickness after folding the paper 43 times."
      ],
      "metadata": {
        "id": "ahKW_fMuYQAo"
      }
    },
    {
      "cell_type": "markdown",
      "source": [
        "According to the introduction, if an A4 piece of paper with a thickness of 0.00008m is folded 43 times, its thickness will expand and it may reach the moon.\n",
        "Assume that the thickness of the paper after 45 folds is t43. The formula t43 = t0 * 2^43 may be used to calculate this, where t0 is the thickness of the paper before folding.\n",
        "We are now requested to apply exponentiation, or the power operator, to compute the thickness of the piece of paper after it has been folded 43 times. The sample code presented below calculates the thickness of the paper after it has been folded once."
      ],
      "metadata": {
        "id": "xLpEjNV0ZXlY"
      }
    },
    {
      "cell_type": "code",
      "metadata": {
        "colab": {
          "base_uri": "https://localhost:8080/"
        },
        "id": "ZAR5yMl6A2IB",
        "outputId": "d7fb99b7-0c14-41e9-9686-d7effc2602b6"
      },
      "source": [
        "# Code to calculate the thickness when the paper is folded once\n",
        "\n",
        "THICKNESS = 0.00008\n",
        "folded_thickness = THICKNESS * 2\n",
        "print(\"Thickness: {} meters\".format(folded_thickness))"
      ],
      "execution_count": null,
      "outputs": [
        {
          "output_type": "stream",
          "name": "stdout",
          "text": [
            "Thickness: 0.00016 meters\n"
          ]
        }
      ]
    },
    {
      "cell_type": "markdown",
      "source": [
        "Understanding the sample code will assist you in rewriting it to solve problem 1.\n",
        "First, we'll make a variable called \"THICKNESS\" to retain the thickness of the paper before folding, which is 0.00008. Line 4 actually does the computation, which is the THICKNESS of the paper multiplied by two to produce the thickness of the paper when folded once, and the result is saved in the folded thickness folder.\n",
        "\n",
        " you may wonder, \"Why are we multiplying by two when we are only filing the document once?\" That's because when you fold a piece of paper like A4, when you lap it against itself and couple the four corners, you get two sheets and therefore twice the thickness. As a result, the output is 0.00016, which is double the initial thicnkness.\n",
        "\n",
        "Line 5 employs the print function. It displays whatever argument was supplied through the function. Another function, format, is introduced within the print function. This tool aids in the creation of a framework for displaying your results. It accepts any argument and passes it to the spot where the curly bracket is placed. The curly brackets act as placeholders or coordinates for the.format function."
      ],
      "metadata": {
        "id": "fqhJq9ZaaJM2"
      }
    },
    {
      "cell_type": "code",
      "metadata": {
        "colab": {
          "base_uri": "https://localhost:8080/"
        },
        "id": "mUOQNWWGsf8b",
        "outputId": "1dda626a-73c2-4010-bd1b-57502e2f4d68"
      },
      "source": [
        "# Code to calculate the thickness when the paper is folded 43 times\n",
        "\n",
        "THICKNESS = 0.00008\n",
        "folded_thickness = THICKNESS * pow(2,43) \n",
        "print(\"Thickness: {} meters\".format(folded_thickness))"
      ],
      "execution_count": 1,
      "outputs": [
        {
          "output_type": "stream",
          "name": "stdout",
          "text": [
            "Thickness: 703687441.77664 meters\n"
          ]
        }
      ]
    },
    {
      "cell_type": "markdown",
      "source": [
        "### [Problem 2] Unit Conversion"
      ],
      "metadata": {
        "id": "2VToxDOZbYns"
      }
    },
    {
      "cell_type": "markdown",
      "source": [
        "Because it is difficult to tell the difference when the measurement is in meters, we shall convert it to 10,000 kilometers. A example code for converting the unit to kilometers has been provided."
      ],
      "metadata": {
        "id": "RRyj0tdGbvQk"
      }
    },
    {
      "cell_type": "code",
      "metadata": {
        "colab": {
          "base_uri": "https://localhost:8080/"
        },
        "id": "aAcTFUUKCas6",
        "outputId": "581c4253-8a8f-4add-9099-0424409f9f3c"
      },
      "source": [
        "# Convert meters to kilometers and display with two decimal places\n",
        "print(\"Thickness: {: .2f} kilometers\".format(folded_thickness / 1000))"
      ],
      "execution_count": null,
      "outputs": [
        {
          "output_type": "stream",
          "name": "stdout",
          "text": [
            "Thickness:  703687.44 kilometers\n"
          ]
        }
      ]
    },
    {
      "cell_type": "markdown",
      "source": [
        "The moon is around 384,400 kilometers away. Let's see if the folded piece of paper made it to the moon.\n",
        "It is clear from the image above that if the paper is folded 43 times, it will eventually reach the moon.\n",
        "\n",
        "Now that we know the unit is expressed in kilometers, we can apply the code to change it to 10,000 kilometers."
      ],
      "metadata": {
        "id": "JadoU-vo1nTY"
      }
    },
    {
      "cell_type": "code",
      "metadata": {
        "colab": {
          "base_uri": "https://localhost:8080/"
        },
        "id": "RIiYhrqFFRV1",
        "outputId": "6b9d0aea-76c9-4b83-8fac-629c95b6f9b6"
      },
      "source": [
        "# Convert meters to kilometers and display with two decimal places\n",
        "print(\"Thickness: {: .2f} kilometers\".format(folded_thickness / 10000))"
      ],
      "execution_count": null,
      "outputs": [
        {
          "output_type": "stream",
          "name": "stdout",
          "text": [
            "Thickness:  70368.74 kilometers\n"
          ]
        }
      ]
    },
    {
      "cell_type": "markdown",
      "source": [
        "### [Problem 3] Create using a for statement"
      ],
      "metadata": {
        "id": "0e_cfoOs4QLV"
      }
    },
    {
      "cell_type": "markdown",
      "source": [
        "Next, create a program that uses the for statement.\n",
        "\n",
        "Do not use exponentiation arithmetic operators. Only the four arithmetic operations+ , - , * , / ) are allowed.\n",
        "Problem 3 is asking us to calculate the thickness of the paper when folded 43 times as in problem 1 and 2 but this time using for loop."
      ],
      "metadata": {
        "id": "C3p70Nom4kXG"
      }
    },
    {
      "cell_type": "code",
      "metadata": {
        "colab": {
          "base_uri": "https://localhost:8080/"
        },
        "id": "C9JewhdEKFW3",
        "outputId": "dbeaddf4-fa86-4b1b-dde5-04f948ad0687"
      },
      "source": [
        "num_folds = 43\n",
        "thickness=0.00008\n",
        "for i in range(1, num_folds + 1):\n",
        "        foldedthickness = thickness *2**i\n",
        "print(\"Thickness： {} meters\".format(foldedthickness))\n",
        "\n",
        "#convert to meter\n",
        "print(\"Thickness： {:.2f} meter\".format(foldedthickness/1000))\n",
        "\n",
        "#convert to kilometer\n",
        "print(\"Thickness： {:.2f} km\".format(foldedthickness/10000))\n"
      ],
      "execution_count": null,
      "outputs": [
        {
          "output_type": "stream",
          "name": "stdout",
          "text": [
            "Thickness： 703687441.77664 meters\n",
            "Thickness： 703687.44 meter\n",
            "Thickness： 70368.74 km\n"
          ]
        }
      ]
    },
    {
      "cell_type": "markdown",
      "source": [
        ""
      ],
      "metadata": {
        "id": "EYpn6IGg9IBE"
      }
    },
    {
      "cell_type": "markdown",
      "source": [
        "Using a for loop, we attempted to calculate the thickness of the folded piece of paper 43 times in the code above.\n",
        "A for loop is used to repeatedly run a section of code for a certain period of time. We thus established two variables as the initial step. num folds, which stores the value for the number of folds, and thickness, which stores the value for the paper's initial thickness.\n",
        "A for loop is now created and its range, is set from 1 to 44. The thickness is then calculated and saved in the foldedthickness variable."
      ],
      "metadata": {
        "id": "-X6ryZcR6Ly6"
      }
    },
    {
      "cell_type": "markdown",
      "source": [
        "### **[Problem 4] Comparison of calculation time**"
      ],
      "metadata": {
        "id": "Rt62rL3u6c7a"
      }
    },
    {
      "cell_type": "markdown",
      "source": [
        "I'll compare the execution speed this time.\n",
        "\n",
        "To compare the two approaches' execution times, use the template below to output the results. Compare the duration of the range eliminating any time spent on variable definition or printing that is used in either technique.\n",
        "We have examined two approaches to determining the paper's thickness. We now want to assess how quickly the various programs execute. We will need the time module in order to accomplish that. By figuring out how much time passed before and after the code we wish to compare, we can determine the execution time."
      ],
      "metadata": {
        "id": "rxivf14j7GyV"
      }
    },
    {
      "cell_type": "code",
      "metadata": {
        "colab": {
          "base_uri": "https://localhost:8080/"
        },
        "id": "_Y7Z0JE_pSYT",
        "outputId": "0b8dc90e-1ff1-4c23-9d91-a0c1d9e352c6"
      },
      "source": [
        "import time\n",
        "start = time.time()\n",
        "#####\n",
        "THICKNESS = 0.00008\n",
        "folded_thickness = THICKNESS*2**43\n",
        "print(\"Thickness： {} meters\".format(folded_thickness))\n",
        "#####\n",
        "elapsed_time = time.time() - start\n",
        "print(\"time : {}[s]\".format(elapsed_time))"
      ],
      "execution_count": null,
      "outputs": [
        {
          "output_type": "stream",
          "name": "stdout",
          "text": [
            "Thickness： 703687441.77664 meters\n",
            "time : 0.003614187240600586[s]\n"
          ]
        }
      ]
    },
    {
      "cell_type": "markdown",
      "source": [
        "We first import the time module before creating the class time object. We then transmit our problem 1 code. We will subtract the start time from the total time to determine how long the program will take to run. Finally, we quickly print the outcome.\n",
        "The identical steps will be repeated for our second approach."
      ],
      "metadata": {
        "id": "cHOh7dIp7oGB"
      }
    },
    {
      "cell_type": "code",
      "metadata": {
        "colab": {
          "base_uri": "https://localhost:8080/"
        },
        "id": "j9oND8ExrMo3",
        "outputId": "d9324b60-b2cd-4b67-937a-3fd51defabb6"
      },
      "source": [
        "import time\n",
        "start = time.time()\n",
        "num_folds = 43\n",
        "thickness=0.00008\n",
        "for i in range(1, num_folds + 1):\n",
        "        foldedthickness = thickness *2**i\n",
        "print(\"Thickness： {} meters\".format(foldedthickness))\n",
        "elapsed_time = time.time() - start\n",
        "print(\"time : {}[s]\".format(elapsed_time))"
      ],
      "execution_count": null,
      "outputs": [
        {
          "output_type": "stream",
          "name": "stdout",
          "text": [
            "Thickness： 703687441.77664 meters\n",
            "time : 0.003933429718017578[s]\n"
          ]
        }
      ]
    },
    {
      "cell_type": "markdown",
      "source": [
        "You can tell from the output that the for loop function took longer to run than the exponentiation approach."
      ],
      "metadata": {
        "id": "yQ0srOn67-fV"
      }
    },
    {
      "cell_type": "markdown",
      "source": [
        "## [Problem 5] Saving to a list"
      ],
      "metadata": {
        "id": "Vdzdd15_8C5O"
      }
    },
    {
      "cell_type": "markdown",
      "source": [
        "The code that records the total of 44 process values should be added to the code using the for statement as we have only utilized the last value after 43 folds so far, but we also need the process values to display them on the graph."
      ],
      "metadata": {
        "id": "3VhcAahc8X-k"
      }
    },
    {
      "cell_type": "code",
      "metadata": {
        "colab": {
          "base_uri": "https://localhost:8080/"
        },
        "id": "QP57k34IuLwy",
        "outputId": "3af2bf63-6743-47f5-aeb1-d558c69ec613"
      },
      "source": [
        "#Creating an empty list\n",
        "list1 = [0.00008]\n",
        "fold_num = 43\n",
        "thickness = 0.00008\n",
        "\n",
        "#folded_thickness = \n",
        "for i in range(1, fold_num + 1):\n",
        "    folded_thickness = thickness*2**i\n",
        "    \n",
        "    #Adding values to the list\n",
        "    list1.append(folded_thickness)\n",
        "print(\"length: \", len(list1))\n",
        "print(list1)"
      ],
      "execution_count": null,
      "outputs": [
        {
          "output_type": "stream",
          "name": "stdout",
          "text": [
            "length:  44\n",
            "[8e-05, 0.00016, 0.00032, 0.00064, 0.00128, 0.00256, 0.00512, 0.01024, 0.02048, 0.04096, 0.08192, 0.16384, 0.32768, 0.65536, 1.31072, 2.62144, 5.24288, 10.48576, 20.97152, 41.94304, 83.88608, 167.77216, 335.54432, 671.08864, 1342.17728, 2684.35456, 5368.70912, 10737.41824, 21474.83648, 42949.67296, 85899.34592, 171798.69184, 343597.38368, 687194.76736, 1374389.53472, 2748779.06944, 5497558.13888, 10995116.27776, 21990232.55552, 43980465.11104, 87960930.22208, 175921860.44416, 351843720.88832, 703687441.77664]\n"
          ]
        }
      ]
    },
    {
      "cell_type": "markdown",
      "source": [
        "Start by making an empty list.\n",
        "Add the value before folding to the list after that.\n",
        "The value of the paper folding procedure up to n times is added to the list in the for statement.\n",
        "Finally, let's use the len function to verify that the list contains 44 values."
      ],
      "metadata": {
        "id": "xLzGmfoV9Kkf"
      }
    },
    {
      "cell_type": "markdown",
      "source": [
        "## [Problem 6] Displaying a line graph"
      ],
      "metadata": {
        "id": "BYpigPPF9TJ2"
      }
    },
    {
      "cell_type": "markdown",
      "source": [
        "The graph is created using a module called Matplotlib. After the code you wish to record in the list, use the following template. To resolve this problem, we'll make use of the offered sample code."
      ],
      "metadata": {
        "id": "9MqDR5sX9vhV"
      }
    },
    {
      "cell_type": "code",
      "source": [
        ""
      ],
      "metadata": {
        "id": "-5M2BrW-90Xs"
      },
      "execution_count": null,
      "outputs": []
    },
    {
      "cell_type": "code",
      "metadata": {
        "colab": {
          "base_uri": "https://localhost:8080/",
          "height": 295
        },
        "id": "3i6OYn1gxMM6",
        "outputId": "da71078e-b7ff-4272-fe33-33275e446412"
      },
      "source": [
        "import matplotlib.pyplot as plt\n",
        "#%matplotlib inline\n",
        "\n",
        "plt.title(\"thickness of folded paper\")\n",
        "plt.xlabel(\"number of folds\")\n",
        "plt.ylabel(\"thickness[M]\")\n",
        "plt.tick_params(labelsize=10)\n",
        "plt.plot(list1)\n",
        "plt.show()"
      ],
      "execution_count": null,
      "outputs": [
        {
          "output_type": "display_data",
          "data": {
            "text/plain": [
              "<Figure size 432x288 with 1 Axes>"
            ],
            "image/png": "[encoded data removed]"
          },
          "metadata": {
            "needs_background": "light"
          }
        }
      ]
    },
    {
      "cell_type": "markdown",
      "source": [
        ""
      ],
      "metadata": {
        "id": "i_66HkDz-twz"
      }
    },
    {
      "cell_type": "markdown",
      "metadata": {
        "id": "kFbOWNxVxT5p"
      },
      "source": [
        "- first we import a module in matplotlib library call pyplot and we are going to be calling it as plt.\n",
        "- Next we use a title() method ot give title to the graph\n",
        "- Next we use the x and y label() method to label the x and y axis of the graph.\n",
        "- Next we call the plot() method and pass the list1 created in problem 5.\n",
        "- finally we call the show() mehtod to display the graph."
      ]
    },
    {
      "cell_type": "markdown",
      "source": [
        "## [Problem 7] Customizing graphs"
      ],
      "metadata": {
        "id": "okwBO_HE-1Xg"
      }
    },
    {
      "cell_type": "markdown",
      "source": [
        "Let's customize the graph to make it easier to see. Create at least 3 customized graphs. For example, the line color can be changed to red by rewriting as follows."
      ],
      "metadata": {
        "id": "qmX622rd_B9W"
      }
    },
    {
      "cell_type": "code",
      "source": [
        ""
      ],
      "metadata": {
        "id": "B5pDazn3_GHE"
      },
      "execution_count": null,
      "outputs": []
    },
    {
      "cell_type": "code",
      "metadata": {
        "colab": {
          "base_uri": "https://localhost:8080/",
          "height": 312
        },
        "id": "sGBUzHMo0qm5",
        "outputId": "19c65e74-e166-4e21-e96c-0263d41d0804"
      },
      "source": [
        "#Making the line dotted\n",
        "plt.title(\"thickness of folded paper\")\n",
        "plt.xlabel(\"number of folds\")\n",
        "plt.ylabel(\"thickness[M]\")\n",
        "#changing line style and color\n",
        "plt.plot(list1, 'ro' )\n",
        "\n",
        "plt.figure(figsize=(40, 20))\n",
        "plt.show()"
      ],
      "execution_count": null,
      "outputs": [
        {
          "output_type": "display_data",
          "data": {
            "text/plain": [
              "<Figure size 432x288 with 1 Axes>"
            ],
            "image/png": "[encoded data removed]"
          },
          "metadata": {
            "needs_background": "light"
          }
        },
        {
          "output_type": "display_data",
          "data": {
            "text/plain": [
              "<Figure size 2880x1440 with 0 Axes>"
            ]
          },
          "metadata": {}
        }
      ]
    },
    {
      "cell_type": "code",
      "source": [
        ""
      ],
      "metadata": {
        "id": "b5uPjPGf_aWz"
      },
      "execution_count": null,
      "outputs": []
    },
    {
      "cell_type": "code",
      "metadata": {
        "colab": {
          "base_uri": "https://localhost:8080/",
          "height": 321
        },
        "id": "yGBbT4pw0fjf",
        "outputId": "5ac90fcc-1717-4522-d56a-080e1fdc7ba7"
      },
      "source": [
        "plt.title(\"thickness of folded paper\")\n",
        "plt.xlabel(\"number of folds\")\n",
        "plt.ylabel(\"thickness[M]\")\n",
        "#changing line style and color\n",
        "plt.plot(list1, linewidth=3.0, color='red' )\n",
        "plt.tick_params(labelsize=20)\n",
        "plt.figure(figsize=(48, 24))\n",
        "plt.show()"
      ],
      "execution_count": null,
      "outputs": [
        {
          "output_type": "display_data",
          "data": {
            "text/plain": [
              "<Figure size 432x288 with 1 Axes>"
            ],
            "image/png": "[encoded data removed]"
          },
          "metadata": {
            "needs_background": "light"
          }
        },
        {
          "output_type": "display_data",
          "data": {
            "text/plain": [
              "<Figure size 3456x1728 with 0 Axes>"
            ]
          },
          "metadata": {}
        }
      ]
    },
    {
      "cell_type": "markdown",
      "source": [
        "## Sprint10 Deep Learning Scratch Neural Networks"
      ],
      "metadata": {
        "id": "5ponVd61F70r"
      }
    },
    {
      "cell_type": "markdown",
      "metadata": {
        "id": "ErXmI77d2Pv9"
      },
      "source": [
        "#### The purpose of this Sprint<br>\n",
        "- To know and Understand the basics of neural networks from scratch.\n",
        "- Know how to handle image data\n",
        "\n",
        "\n",
        "The MNIST dataset is used to validate the scratch neural network. You can download it from various libraries and websites, but here we use Keras, a deep learning framework. The following code will download the dataset and extract it for you.\n",
        "\n"
      ]
    },
    {
      "cell_type": "code",
      "metadata": {
        "id": "v7ef4IDH5J1W",
        "colab": {
          "base_uri": "https://localhost:8080/"
        },
        "outputId": "32d5fc60-d55c-4e15-abb9-105092268b36"
      },
      "source": [
        "from keras.datasets import mnist\n",
        "(X_train, y_train), (X_test, y_test) = mnist.load_data()"
      ],
      "execution_count": 3,
      "outputs": [
        {
          "output_type": "stream",
          "name": "stdout",
          "text": [
            "Downloading data from https://storage.googleapis.com/tensorflow/tf-keras-datasets/mnist.npz\n",
            "11493376/11490434 [==============================] - 0s 0us/step\n",
            "11501568/11490434 [==============================] - 0s 0us/step\n"
          ]
        }
      ]
    },
    {
      "cell_type": "markdown",
      "source": [
        "What is MNIST?\n",
        "The MNIST dataset is an acronym that stands for the Modified National Institute of Standards and Technology dataset.\n",
        "\n",
        "This is a standard data set for image classification and handwritten number recognition. This dataset contains 60,000 training and 10,000 test 28x28 pixel black and white images, and labels for which numbers are from 0 to 9.\n",
        "\n",
        "What is image data?\n",
        "\n",
        "A digital image is a collection of points, called pixels. Generally, for black and white images, pixels contain values from 0 to 255. On the other hand, if it is a color image, the values of 0 to 255 corresponding to R (red), G (green), and B (blue) are included. In machine learning, each value from 0 to 255 is treated as a feature quantity. Since 0 to 255 is the range that can be represented by an unsigned 8-bit integer, NumPy can be stored as a \"uint8\" type variable.\n",
        "\n",
        "Each data is a 28x28 pixel black and white image."
      ],
      "metadata": {
        "id": "iB63Hp5VKll5"
      }
    },
    {
      "cell_type": "code",
      "metadata": {
        "colab": {
          "base_uri": "https://localhost:8080/"
        },
        "id": "VkGnsftx6ADs",
        "outputId": "87a4826d-baa1-4325-f000-7825388bc31d"
      },
      "source": [
        "# Let's see what kind of data it is.\n",
        "print(X_train.shape) # (60000, 28, 28)\n",
        "print(X_test.shape) # (10000, 28, 28)\n",
        "print(X_train[0].dtype) # uint8\n",
        "print(X_train[0])"
      ],
      "execution_count": 6,
      "outputs": [
        {
          "output_type": "stream",
          "name": "stdout",
          "text": [
            "(60000, 28, 28)\n",
            "(10000, 28, 28)\n",
            "uint8\n",
            "[[  0   0   0   0   0   0   0   0   0   0   0   0   0   0   0   0   0   0\n",
            "    0   0   0   0   0   0   0   0   0   0]\n",
            " [  0   0   0   0   0   0   0   0   0   0   0   0   0   0   0   0   0   0\n",
            "    0   0   0   0   0   0   0   0   0   0]\n",
            " [  0   0   0   0   0   0   0   0   0   0   0   0   0   0   0   0   0   0\n",
            "    0   0   0   0   0   0   0   0   0   0]\n",
            " [  0   0   0   0   0   0   0   0   0   0   0   0   0   0   0   0   0   0\n",
            "    0   0   0   0   0   0   0   0   0   0]\n",
            " [  0   0   0   0   0   0   0   0   0   0   0   0   0   0   0   0   0   0\n",
            "    0   0   0   0   0   0   0   0   0   0]\n",
            " [  0   0   0   0   0   0   0   0   0   0   0   0   3  18  18  18 126 136\n",
            "  175  26 166 255 247 127   0   0   0   0]\n",
            " [  0   0   0   0   0   0   0   0  30  36  94 154 170 253 253 253 253 253\n",
            "  225 172 253 242 195  64   0   0   0   0]\n",
            " [  0   0   0   0   0   0   0  49 238 253 253 253 253 253 253 253 253 251\n",
            "   93  82  82  56  39   0   0   0   0   0]\n",
            " [  0   0   0   0   0   0   0  18 219 253 253 253 253 253 198 182 247 241\n",
            "    0   0   0   0   0   0   0   0   0   0]\n",
            " [  0   0   0   0   0   0   0   0  80 156 107 253 253 205  11   0  43 154\n",
            "    0   0   0   0   0   0   0   0   0   0]\n",
            " [  0   0   0   0   0   0   0   0   0  14   1 154 253  90   0   0   0   0\n",
            "    0   0   0   0   0   0   0   0   0   0]\n",
            " [  0   0   0   0   0   0   0   0   0   0   0 139 253 190   2   0   0   0\n",
            "    0   0   0   0   0   0   0   0   0   0]\n",
            " [  0   0   0   0   0   0   0   0   0   0   0  11 190 253  70   0   0   0\n",
            "    0   0   0   0   0   0   0   0   0   0]\n",
            " [  0   0   0   0   0   0   0   0   0   0   0   0  35 241 225 160 108   1\n",
            "    0   0   0   0   0   0   0   0   0   0]\n",
            " [  0   0   0   0   0   0   0   0   0   0   0   0   0  81 240 253 253 119\n",
            "   25   0   0   0   0   0   0   0   0   0]\n",
            " [  0   0   0   0   0   0   0   0   0   0   0   0   0   0  45 186 253 253\n",
            "  150  27   0   0   0   0   0   0   0   0]\n",
            " [  0   0   0   0   0   0   0   0   0   0   0   0   0   0   0  16  93 252\n",
            "  253 187   0   0   0   0   0   0   0   0]\n",
            " [  0   0   0   0   0   0   0   0   0   0   0   0   0   0   0   0   0 249\n",
            "  253 249  64   0   0   0   0   0   0   0]\n",
            " [  0   0   0   0   0   0   0   0   0   0   0   0   0   0  46 130 183 253\n",
            "  253 207   2   0   0   0   0   0   0   0]\n",
            " [  0   0   0   0   0   0   0   0   0   0   0   0  39 148 229 253 253 253\n",
            "  250 182   0   0   0   0   0   0   0   0]\n",
            " [  0   0   0   0   0   0   0   0   0   0  24 114 221 253 253 253 253 201\n",
            "   78   0   0   0   0   0   0   0   0   0]\n",
            " [  0   0   0   0   0   0   0   0  23  66 213 253 253 253 253 198  81   2\n",
            "    0   0   0   0   0   0   0   0   0   0]\n",
            " [  0   0   0   0   0   0  18 171 219 253 253 253 253 195  80   9   0   0\n",
            "    0   0   0   0   0   0   0   0   0   0]\n",
            " [  0   0   0   0  55 172 226 253 253 253 253 244 133  11   0   0   0   0\n",
            "    0   0   0   0   0   0   0   0   0   0]\n",
            " [  0   0   0   0 136 253 253 253 212 135 132  16   0   0   0   0   0   0\n",
            "    0   0   0   0   0   0   0   0   0   0]\n",
            " [  0   0   0   0   0   0   0   0   0   0   0   0   0   0   0   0   0   0\n",
            "    0   0   0   0   0   0   0   0   0   0]\n",
            " [  0   0   0   0   0   0   0   0   0   0   0   0   0   0   0   0   0   0\n",
            "    0   0   0   0   0   0   0   0   0   0]\n",
            " [  0   0   0   0   0   0   0   0   0   0   0   0   0   0   0   0   0   0\n",
            "    0   0   0   0   0   0   0   0   0   0]]\n"
          ]
        }
      ]
    },
    {
      "cell_type": "code",
      "source": [
        "X_train.ndim"
      ],
      "metadata": {
        "colab": {
          "base_uri": "https://localhost:8080/"
        },
        "id": "qGvXdQutvfL4",
        "outputId": "25c2ef3c-d4ce-44bb-ed47-51c7dcf18019"
      },
      "execution_count": 8,
      "outputs": [
        {
          "output_type": "execute_result",
          "data": {
            "text/plain": [
              "3"
            ]
          },
          "metadata": {},
          "execution_count": 8
        }
      ]
    },
    {
      "cell_type": "markdown",
      "source": [
        "## Smoothing\n",
        "Each image of (1, 28, 28) is transformed into (1, 784). This is the form that we will use in the machine learning methods we have learned so far, and in the neural network we will use in this article, which is a fully coupled layer only. The fact that all pixels are in a single row is described as flatten."
      ],
      "metadata": {
        "id": "ZiDvx9Frav95"
      }
    },
    {
      "cell_type": "code",
      "metadata": {
        "id": "yrmnjyZd6ke8"
      },
      "source": [
        "X_train = X_train.reshape(-1, 784)\n",
        "X_test = X_test.reshape(-1, 784)"
      ],
      "execution_count": 9,
      "outputs": []
    },
    {
      "cell_type": "code",
      "source": [
        "X_train.ndim"
      ],
      "metadata": {
        "colab": {
          "base_uri": "https://localhost:8080/"
        },
        "id": "QFFraQF9v7UP",
        "outputId": "c07d6a94-97b1-4453-ecd8-6e67aa99463c"
      },
      "execution_count": 10,
      "outputs": [
        {
          "output_type": "execute_result",
          "data": {
            "text/plain": [
              "2"
            ]
          },
          "metadata": {},
          "execution_count": 10
        }
      ]
    },
    {
      "cell_type": "markdown",
      "source": [
        "We have used the term \"dimensions\" to describe the quantity of features throughout most of our study of machine learning. MNIST may be seen from that perspective as 784 data dimensions. However, the condition that NumPy's form is (784), is also referred to as a 1D array. It is a two-dimensional array if the shape is (28, 28), which contains height and width information in the form of an image. This makes the data two-dimensional from their perspective. If the picture is colored, it is a 3D array with the coordinates (28, 28, 3). It is a 3-dimensional data from the prior perspective. But from the perspective of a flat image, whether it is in color or black and white, it is not three-dimensional data, If the picture is colored, it is a 3D array with the coordinates (28, 28, 3). It is a 3-dimensional data from the prior perspective. However, from the perspective of a flat image, whether in color or black and white, it is two-dimensional data rather than three-dimensional information. It should be noted that the word \"dimension\" has several meanings when referring to picture data."
      ],
      "metadata": {
        "id": "WrcAEkBWceYE"
      }
    },
    {
      "cell_type": "markdown",
      "metadata": {
        "id": "9-Z6StFm7I-b"
      },
      "source": [
        "### Visualization of image data\n",
        "Visualize the image data. Let's use plt.imshow."
      ]
    },
    {
      "cell_type": "code",
      "metadata": {
        "colab": {
          "base_uri": "https://localhost:8080/",
          "height": 281
        },
        "id": "tSL16WV96UW2",
        "outputId": "647e57c7-9d89-4465-c800-4909a15f4a26"
      },
      "source": [
        "import matplotlib.pyplot as plt\n",
        "%matplotlib inline\n",
        "image = X_train[0].reshape(28,28)\n",
        "# X_train[0]: (784,)\n",
        "# image: (28, 28)\n",
        "plt.imshow(image, 'gray')\n",
        "plt.title('label : {}'.format(y_train[0]))\n",
        "plt.show()"
      ],
      "execution_count": 15,
      "outputs": [
        {
          "output_type": "display_data",
          "data": {
            "text/plain": [
              "<Figure size 432x288 with 1 Axes>"
            ],
            "image/png": "[encoded data removed]"
          },
          "metadata": {
            "needs_background": "light"
          }
        }
      ]
    },
    {
      "cell_type": "markdown",
      "source": [
        "The standard format for image data is an unsigned 8-bit integer of type uint8, however plt.imshow may display a picture that is really a more adaptable array. A negative value in the following floating point of type float64, for instance, won't result in an error and will be shown precisely as before."
      ],
      "metadata": {
        "id": "_3z9BsKifOiJ"
      }
    },
    {
      "cell_type": "code",
      "metadata": {
        "id": "eSZx0oAy786f"
      },
      "source": [
        "import numpy as np"
      ],
      "execution_count": 20,
      "outputs": []
    },
    {
      "cell_type": "code",
      "metadata": {
        "colab": {
          "base_uri": "https://localhost:8080/",
          "height": 1000
        },
        "id": "h9sebC-w7pnT",
        "outputId": "49d194ae-6d26-4454-8634-2b199c2342c9"
      },
      "source": [
        "index = 0\n",
        "image = X_train[index].reshape(28,28)\n",
        "image = image.astype(np.float) # Convert to float type\n",
        "image -= 105.35 # Intentionally try to create a negative decimal value\n",
        "plt.imshow(image, 'gray')\n",
        "plt.title('label : {}'.format(y_train[index]))\n",
        "plt.show()\n",
        "print(image) # Check the value"
      ],
      "execution_count": 21,
      "outputs": [
        {
          "output_type": "stream",
          "name": "stderr",
          "text": [
            "/usr/local/lib/python3.7/dist-packages/ipykernel_launcher.py:3: DeprecationWarning: `np.float` is a deprecated alias for the builtin `float`. To silence this warning, use `float` by itself. Doing this will not modify any behavior and is safe. If you specifically wanted the numpy scalar type, use `np.float64` here.\n",
            "Deprecated in NumPy 1.20; for more details and guidance: https://numpy.org/devdocs/release/1.20.0-notes.html#deprecations\n",
            "  This is separate from the ipykernel package so we can avoid doing imports until\n"
          ]
        },
        {
          "output_type": "display_data",
          "data": {
            "text/plain": [
              "<Figure size 432x288 with 1 Axes>"
            ],
            "image/png": "[encoded data removed]"
          },
          "metadata": {
            "needs_background": "light"
          }
        },
        {
          "output_type": "stream",
          "name": "stdout",
          "text": [
            "[[-105.35 -105.35 -105.35 -105.35 -105.35 -105.35 -105.35 -105.35 -105.35\n",
            "  -105.35 -105.35 -105.35 -105.35 -105.35 -105.35 -105.35 -105.35 -105.35\n",
            "  -105.35 -105.35 -105.35 -105.35 -105.35 -105.35 -105.35 -105.35 -105.35\n",
            "  -105.35]\n",
            " [-105.35 -105.35 -105.35 -105.35 -105.35 -105.35 -105.35 -105.35 -105.35\n",
            "  -105.35 -105.35 -105.35 -105.35 -105.35 -105.35 -105.35 -105.35 -105.35\n",
            "  -105.35 -105.35 -105.35 -105.35 -105.35 -105.35 -105.35 -105.35 -105.35\n",
            "  -105.35]\n",
            " [-105.35 -105.35 -105.35 -105.35 -105.35 -105.35 -105.35 -105.35 -105.35\n",
            "  -105.35 -105.35 -105.35 -105.35 -105.35 -105.35 -105.35 -105.35 -105.35\n",
            "  -105.35 -105.35 -105.35 -105.35 -105.35 -105.35 -105.35 -105.35 -105.35\n",
            "  -105.35]\n",
            " [-105.35 -105.35 -105.35 -105.35 -105.35 -105.35 -105.35 -105.35 -105.35\n",
            "  -105.35 -105.35 -105.35 -105.35 -105.35 -105.35 -105.35 -105.35 -105.35\n",
            "  -105.35 -105.35 -105.35 -105.35 -105.35 -105.35 -105.35 -105.35 -105.35\n",
            "  -105.35]\n",
            " [-105.35 -105.35 -105.35 -105.35 -105.35 -105.35 -105.35 -105.35 -105.35\n",
            "  -105.35 -105.35 -105.35 -105.35 -105.35 -105.35 -105.35 -105.35 -105.35\n",
            "  -105.35 -105.35 -105.35 -105.35 -105.35 -105.35 -105.35 -105.35 -105.35\n",
            "  -105.35]\n",
            " [-105.35 -105.35 -105.35 -105.35 -105.35 -105.35 -105.35 -105.35 -105.35\n",
            "  -105.35 -105.35 -105.35 -102.35  -87.35  -87.35  -87.35   20.65   30.65\n",
            "    69.65  -79.35   60.65  149.65  141.65   21.65 -105.35 -105.35 -105.35\n",
            "  -105.35]\n",
            " [-105.35 -105.35 -105.35 -105.35 -105.35 -105.35 -105.35 -105.35  -75.35\n",
            "   -69.35  -11.35   48.65   64.65  147.65  147.65  147.65  147.65  147.65\n",
            "   119.65   66.65  147.65  136.65   89.65  -41.35 -105.35 -105.35 -105.35\n",
            "  -105.35]\n",
            " [-105.35 -105.35 -105.35 -105.35 -105.35 -105.35 -105.35  -56.35  132.65\n",
            "   147.65  147.65  147.65  147.65  147.65  147.65  147.65  147.65  145.65\n",
            "   -12.35  -23.35  -23.35  -49.35  -66.35 -105.35 -105.35 -105.35 -105.35\n",
            "  -105.35]\n",
            " [-105.35 -105.35 -105.35 -105.35 -105.35 -105.35 -105.35  -87.35  113.65\n",
            "   147.65  147.65  147.65  147.65  147.65   92.65   76.65  141.65  135.65\n",
            "  -105.35 -105.35 -105.35 -105.35 -105.35 -105.35 -105.35 -105.35 -105.35\n",
            "  -105.35]\n",
            " [-105.35 -105.35 -105.35 -105.35 -105.35 -105.35 -105.35 -105.35  -25.35\n",
            "    50.65    1.65  147.65  147.65   99.65  -94.35 -105.35  -62.35   48.65\n",
            "  -105.35 -105.35 -105.35 -105.35 -105.35 -105.35 -105.35 -105.35 -105.35\n",
            "  -105.35]\n",
            " [-105.35 -105.35 -105.35 -105.35 -105.35 -105.35 -105.35 -105.35 -105.35\n",
            "   -91.35 -104.35   48.65  147.65  -15.35 -105.35 -105.35 -105.35 -105.35\n",
            "  -105.35 -105.35 -105.35 -105.35 -105.35 -105.35 -105.35 -105.35 -105.35\n",
            "  -105.35]\n",
            " [-105.35 -105.35 -105.35 -105.35 -105.35 -105.35 -105.35 -105.35 -105.35\n",
            "  -105.35 -105.35   33.65  147.65   84.65 -103.35 -105.35 -105.35 -105.35\n",
            "  -105.35 -105.35 -105.35 -105.35 -105.35 -105.35 -105.35 -105.35 -105.35\n",
            "  -105.35]\n",
            " [-105.35 -105.35 -105.35 -105.35 -105.35 -105.35 -105.35 -105.35 -105.35\n",
            "  -105.35 -105.35  -94.35   84.65  147.65  -35.35 -105.35 -105.35 -105.35\n",
            "  -105.35 -105.35 -105.35 -105.35 -105.35 -105.35 -105.35 -105.35 -105.35\n",
            "  -105.35]\n",
            " [-105.35 -105.35 -105.35 -105.35 -105.35 -105.35 -105.35 -105.35 -105.35\n",
            "  -105.35 -105.35 -105.35  -70.35  135.65  119.65   54.65    2.65 -104.35\n",
            "  -105.35 -105.35 -105.35 -105.35 -105.35 -105.35 -105.35 -105.35 -105.35\n",
            "  -105.35]\n",
            " [-105.35 -105.35 -105.35 -105.35 -105.35 -105.35 -105.35 -105.35 -105.35\n",
            "  -105.35 -105.35 -105.35 -105.35  -24.35  134.65  147.65  147.65   13.65\n",
            "   -80.35 -105.35 -105.35 -105.35 -105.35 -105.35 -105.35 -105.35 -105.35\n",
            "  -105.35]\n",
            " [-105.35 -105.35 -105.35 -105.35 -105.35 -105.35 -105.35 -105.35 -105.35\n",
            "  -105.35 -105.35 -105.35 -105.35 -105.35  -60.35   80.65  147.65  147.65\n",
            "    44.65  -78.35 -105.35 -105.35 -105.35 -105.35 -105.35 -105.35 -105.35\n",
            "  -105.35]\n",
            " [-105.35 -105.35 -105.35 -105.35 -105.35 -105.35 -105.35 -105.35 -105.35\n",
            "  -105.35 -105.35 -105.35 -105.35 -105.35 -105.35  -89.35  -12.35  146.65\n",
            "   147.65   81.65 -105.35 -105.35 -105.35 -105.35 -105.35 -105.35 -105.35\n",
            "  -105.35]\n",
            " [-105.35 -105.35 -105.35 -105.35 -105.35 -105.35 -105.35 -105.35 -105.35\n",
            "  -105.35 -105.35 -105.35 -105.35 -105.35 -105.35 -105.35 -105.35  143.65\n",
            "   147.65  143.65  -41.35 -105.35 -105.35 -105.35 -105.35 -105.35 -105.35\n",
            "  -105.35]\n",
            " [-105.35 -105.35 -105.35 -105.35 -105.35 -105.35 -105.35 -105.35 -105.35\n",
            "  -105.35 -105.35 -105.35 -105.35 -105.35  -59.35   24.65   77.65  147.65\n",
            "   147.65  101.65 -103.35 -105.35 -105.35 -105.35 -105.35 -105.35 -105.35\n",
            "  -105.35]\n",
            " [-105.35 -105.35 -105.35 -105.35 -105.35 -105.35 -105.35 -105.35 -105.35\n",
            "  -105.35 -105.35 -105.35  -66.35   42.65  123.65  147.65  147.65  147.65\n",
            "   144.65   76.65 -105.35 -105.35 -105.35 -105.35 -105.35 -105.35 -105.35\n",
            "  -105.35]\n",
            " [-105.35 -105.35 -105.35 -105.35 -105.35 -105.35 -105.35 -105.35 -105.35\n",
            "  -105.35  -81.35    8.65  115.65  147.65  147.65  147.65  147.65   95.65\n",
            "   -27.35 -105.35 -105.35 -105.35 -105.35 -105.35 -105.35 -105.35 -105.35\n",
            "  -105.35]\n",
            " [-105.35 -105.35 -105.35 -105.35 -105.35 -105.35 -105.35 -105.35  -82.35\n",
            "   -39.35  107.65  147.65  147.65  147.65  147.65   92.65  -24.35 -103.35\n",
            "  -105.35 -105.35 -105.35 -105.35 -105.35 -105.35 -105.35 -105.35 -105.35\n",
            "  -105.35]\n",
            " [-105.35 -105.35 -105.35 -105.35 -105.35 -105.35  -87.35   65.65  113.65\n",
            "   147.65  147.65  147.65  147.65   89.65  -25.35  -96.35 -105.35 -105.35\n",
            "  -105.35 -105.35 -105.35 -105.35 -105.35 -105.35 -105.35 -105.35 -105.35\n",
            "  -105.35]\n",
            " [-105.35 -105.35 -105.35 -105.35  -50.35   66.65  120.65  147.65  147.65\n",
            "   147.65  147.65  138.65   27.65  -94.35 -105.35 -105.35 -105.35 -105.35\n",
            "  -105.35 -105.35 -105.35 -105.35 -105.35 -105.35 -105.35 -105.35 -105.35\n",
            "  -105.35]\n",
            " [-105.35 -105.35 -105.35 -105.35   30.65  147.65  147.65  147.65  106.65\n",
            "    29.65   26.65  -89.35 -105.35 -105.35 -105.35 -105.35 -105.35 -105.35\n",
            "  -105.35 -105.35 -105.35 -105.35 -105.35 -105.35 -105.35 -105.35 -105.35\n",
            "  -105.35]\n",
            " [-105.35 -105.35 -105.35 -105.35 -105.35 -105.35 -105.35 -105.35 -105.35\n",
            "  -105.35 -105.35 -105.35 -105.35 -105.35 -105.35 -105.35 -105.35 -105.35\n",
            "  -105.35 -105.35 -105.35 -105.35 -105.35 -105.35 -105.35 -105.35 -105.35\n",
            "  -105.35]\n",
            " [-105.35 -105.35 -105.35 -105.35 -105.35 -105.35 -105.35 -105.35 -105.35\n",
            "  -105.35 -105.35 -105.35 -105.35 -105.35 -105.35 -105.35 -105.35 -105.35\n",
            "  -105.35 -105.35 -105.35 -105.35 -105.35 -105.35 -105.35 -105.35 -105.35\n",
            "  -105.35]\n",
            " [-105.35 -105.35 -105.35 -105.35 -105.35 -105.35 -105.35 -105.35 -105.35\n",
            "  -105.35 -105.35 -105.35 -105.35 -105.35 -105.35 -105.35 -105.35 -105.35\n",
            "  -105.35 -105.35 -105.35 -105.35 -105.35 -105.35 -105.35 -105.35 -105.35\n",
            "  -105.35]]\n"
          ]
        }
      ]
    },
    {
      "cell_type": "markdown",
      "source": [
        "This  can automatically convert a number from 0 to 255 to an integer for processing. The color will be odd even if it is an uint8 type if the minimum value is 0 and the maximum value is not 255. To avoid this, introduce the following argument."
      ],
      "metadata": {
        "id": "BdZPr7JA8UEc"
      }
    },
    {
      "cell_type": "code",
      "metadata": {
        "colab": {
          "base_uri": "https://localhost:8080/",
          "height": 282
        },
        "id": "2_P1GMML8LAB",
        "outputId": "34494228-2d29-4994-ad7f-b0884f8575ff"
      },
      "source": [
        "plt.imshow(image, 'gray', vmin = 0, vmax = 255)"
      ],
      "execution_count": 22,
      "outputs": [
        {
          "output_type": "execute_result",
          "data": {
            "text/plain": [
              "<matplotlib.image.AxesImage at 0x7fdbef779850>"
            ]
          },
          "metadata": {},
          "execution_count": 22
        },
        {
          "output_type": "display_data",
          "data": {
            "text/plain": [
              "<Figure size 432x288 with 1 Axes>"
            ],
            "image/png": "[encoded data removed]"
          },
          "metadata": {
            "needs_background": "light"
          }
        }
      ]
    },
    {
      "cell_type": "code",
      "metadata": {
        "colab": {
          "base_uri": "https://localhost:8080/"
        },
        "id": "n-7FeHOL8uMt",
        "outputId": "48780876-4f97-4fd0-af5d-737050eef8ce"
      },
      "source": [
        "X_train = X_train.astype(np.float)\n",
        "X_test = X_test.astype(np.float)\n",
        "X_train /= 255\n",
        "X_test /= 255\n",
        "print(X_train.max()) # 1.0\n",
        "print(X_train.min()) # 0.0"
      ],
      "execution_count": 23,
      "outputs": [
        {
          "output_type": "stream",
          "name": "stdout",
          "text": [
            "1.0\n",
            "0.0\n"
          ]
        },
        {
          "output_type": "stream",
          "name": "stderr",
          "text": [
            "/usr/local/lib/python3.7/dist-packages/ipykernel_launcher.py:1: DeprecationWarning: `np.float` is a deprecated alias for the builtin `float`. To silence this warning, use `float` by itself. Doing this will not modify any behavior and is safe. If you specifically wanted the numpy scalar type, use `np.float64` here.\n",
            "Deprecated in NumPy 1.20; for more details and guidance: https://numpy.org/devdocs/release/1.20.0-notes.html#deprecations\n",
            "  \"\"\"Entry point for launching an IPython kernel.\n",
            "/usr/local/lib/python3.7/dist-packages/ipykernel_launcher.py:2: DeprecationWarning: `np.float` is a deprecated alias for the builtin `float`. To silence this warning, use `float` by itself. Doing this will not modify any behavior and is safe. If you specifically wanted the numpy scalar type, use `np.float64` here.\n",
            "Deprecated in NumPy 1.20; for more details and guidance: https://numpy.org/devdocs/release/1.20.0-notes.html#deprecations\n",
            "  \n"
          ]
        }
      ]
    },
    {
      "cell_type": "markdown",
      "source": [
        "Additionally, for multi-class classification in neural networks, the proper label is an integer between 0 and 9, which is transformed into a one-hot expression. The code below uses OneHotEncoder from scikit-learn. Since the value in this one-hot form represents the likelihood that the label will be present, it is handled as a float."
      ],
      "metadata": {
        "id": "y_kmm1-HEckN"
      }
    },
    {
      "cell_type": "code",
      "metadata": {
        "colab": {
          "base_uri": "https://localhost:8080/"
        },
        "id": "e4V7RISp88bd",
        "outputId": "b9bbca8c-2027-4253-8857-e0740b3eb7bf"
      },
      "source": [
        "from sklearn.preprocessing import OneHotEncoder\n",
        "enc = OneHotEncoder(handle_unknown='ignore', sparse=False)\n",
        "y_train_one_hot = enc.fit_transform(y_train[:, np.newaxis])\n",
        "y_test_one_hot = enc.transform(y_test[:, np.newaxis])\n",
        "print(y_train.shape) # (60000,)\n",
        "print(y_train_one_hot.shape) # (60000, 10)\n",
        "print(y_train_one_hot.dtype) # float64"
      ],
      "execution_count": 24,
      "outputs": [
        {
          "output_type": "stream",
          "name": "stdout",
          "text": [
            "(60000,)\n",
            "(60000, 10)\n",
            "float64\n"
          ]
        }
      ]
    },
    {
      "cell_type": "markdown",
      "source": [
        "Divide 30% of the 60,000 training data into verification data in addition. There will be 48,000 training data points and 12,000 verification data points."
      ],
      "metadata": {
        "id": "kKuO0oliFWMh"
      }
    },
    {
      "cell_type": "code",
      "source": [
        ""
      ],
      "metadata": {
        "id": "vHJyHmgaIUIF"
      },
      "execution_count": null,
      "outputs": []
    },
    {
      "cell_type": "code",
      "metadata": {
        "colab": {
          "base_uri": "https://localhost:8080/"
        },
        "id": "bGzWV4pnBK6h",
        "outputId": "83bc1282-6aea-4a42-a5d0-c01bfeec2099"
      },
      "source": [
        "from sklearn.model_selection import train_test_split\n",
        "X_train, X_val, y_train, y_val = train_test_split(X_train, y_train, test_size=0.3)\n",
        "print(X_train.shape) \n",
        "print(X_val.shape) "
      ],
      "execution_count": 25,
      "outputs": [
        {
          "output_type": "stream",
          "name": "stdout",
          "text": [
            "(42000, 784)\n",
            "(18000, 784)\n"
          ]
        }
      ]
    },
    {
      "cell_type": "markdown",
      "source": [
        "Mini batch processing Earlier, all samples were calculated at once using machine learning scratch. However, stochastic gradient descent, where the data is supplied in chunks, is frequently used in neural networks. A mini-batch is a batch of data, and the size of the batch is the number of samples.\n",
        "\n",
        "The batch size in this instance is 20. We will utilize 48000 rows of training data, therefore 48000 / 20 is 2400 iterations. One epoch, which is when all of the training data has been examined, is referred to as 2400 iterations in neural networks. The learning process is finished after multiple repetitions of this period.\n",
        "\n",
        "To do this, we have built a straightforward iterator. By using a for statement while calling it, you may obtain a mini-batch."
      ],
      "metadata": {
        "id": "1NIn7T2oZOYK"
      }
    },
    {
      "cell_type": "code",
      "source": [
        ""
      ],
      "metadata": {
        "id": "C_IuCiPPZauv"
      },
      "execution_count": null,
      "outputs": []
    },
    {
      "cell_type": "code",
      "metadata": {
        "id": "_nBCIS7lBh6I"
      },
      "source": [
        "class GetMiniBatch:\n",
        "    def __init__(self, X, y, batch_size = 20, seed=0):\n",
        "        self.batch_size = batch_size\n",
        "        np.random.seed(seed)\n",
        "        shuffle_index = np.random.permutation(np.arange(X.shape[0]))\n",
        "        self._X = X[shuffle_index]\n",
        "        self._y = y[shuffle_index]\n",
        "        self._stop = np.ceil(X.shape[0]/self.batch_size).astype(np.int)\n",
        "    def __len__(self):\n",
        "        return self._stop\n",
        "    def __getitem__(self,item):\n",
        "        p0 = item*self.batch_size\n",
        "        p1 = item*self.batch_size + self.batch_size\n",
        "        return self._X[p0:p1], self._y[p0:p1]        \n",
        "    def __iter__(self):\n",
        "        self._counter = 0\n",
        "        return self\n",
        "    def __next__(self):\n",
        "        if self._counter >= self._stop:\n",
        "            raise StopIteration()\n",
        "        p0 = self._counter*self.batch_size\n",
        "        p1 = self._counter*self.batch_size + self.batch_size\n",
        "        self._counter += 1\n",
        "        return self._X[p0:p1], self._y[p0:p1]"
      ],
      "execution_count": null,
      "outputs": []
    },
    {
      "cell_type": "code",
      "source": [
        ""
      ],
      "metadata": {
        "id": "OuWRGQfqZpJd"
      },
      "execution_count": null,
      "outputs": []
    },
    {
      "cell_type": "code",
      "metadata": {
        "colab": {
          "base_uri": "https://localhost:8080/"
        },
        "id": "eJ30RjWnBujA",
        "outputId": "15d1391d-d9f5-4c23-e38e-5755fa560385"
      },
      "source": [
        "get_mini_batch = GetMiniBatch(X_train, y_train, batch_size=20)\n",
        "print(len(get_mini_batch))\n",
        "print(get_mini_batch[5]) "
      ],
      "execution_count": null,
      "outputs": [
        {
          "output_type": "stream",
          "name": "stdout",
          "text": [
            "1920\n",
            "(array([[0., 0., 0., ..., 0., 0., 0.],\n",
            "       [0., 0., 0., ..., 0., 0., 0.],\n",
            "       [0., 0., 0., ..., 0., 0., 0.],\n",
            "       ...,\n",
            "       [0., 0., 0., ..., 0., 0., 0.],\n",
            "       [0., 0., 0., ..., 0., 0., 0.],\n",
            "       [0., 0., 0., ..., 0., 0., 0.]]), array([7, 8, 4, 5, 6, 8, 3, 4, 4, 4, 3, 5, 2, 6, 1, 7, 4, 5, 1, 5],\n",
            "      dtype=uint8))\n"
          ]
        },
        {
          "output_type": "stream",
          "name": "stderr",
          "text": [
            "/usr/local/lib/python3.7/dist-packages/ipykernel_launcher.py:8: DeprecationWarning: `np.int` is a deprecated alias for the builtin `int`. To silence this warning, use `int` by itself. Doing this will not modify any behavior and is safe. When replacing `np.int`, you may wish to use e.g. `np.int64` or `np.int32` to specify the precision. If you wish to review your current use, check the release note link for additional information.\n",
            "Deprecated in NumPy 1.20; for more details and guidance: https://numpy.org/devdocs/release/1.20.0-notes.html#deprecations\n",
            "  \n"
          ]
        }
      ]
    },
    {
      "cell_type": "markdown",
      "source": [
        "# [Problem 1] Creating a code to determine the initial weight value"
      ],
      "metadata": {
        "id": "qGs6gFquafZX"
      }
    },
    {
      "cell_type": "markdown",
      "source": [
        "Create the neural network's initial weights by writing the appropriate code for each layer.\n",
        "\n",
        "Numerous approaches have been suggested for the weight's initial value, but this time we shall carry out a straightforward initialization using a Gaussian distribution. Bias is the same way.\n",
        "\n",
        "Please use the code below as a guide. A hyperparameter is the standard deviation value, or sigma. In the next Sprint, the evolutionary weight initialization approach will be explored."
      ],
      "metadata": {
        "id": "FYUBLDhrayrZ"
      }
    },
    {
      "cell_type": "markdown",
      "source": [
        ""
      ],
      "metadata": {
        "id": "Nu11fY57a3Fg"
      }
    },
    {
      "cell_type": "code",
      "metadata": {
        "colab": {
          "base_uri": "https://localhost:8080/"
        },
        "id": "lCHhRR46DC6H",
        "outputId": "4ea10357-8f20-4939-880c-7990dd31b794"
      },
      "source": [
        "n_features = 784\n",
        "n_nodes1 = 400\n",
        "sigma = 0.01 \n",
        "n_output = 10\n",
        "W1 = sigma * np.random.randn(n_features, n_nodes1)\n",
        "n_nodes2 = 200\n",
        "n_nodes3 = 10\n",
        "W2 = sigma * np.random.randn(n_nodes1, n_nodes2)\n",
        "B1 = sigma * np.random.randn(n_nodes1)\n",
        "B2 = sigma * np.random.randn(n_nodes2)\n",
        "W3 = sigma * np.random.randn(n_nodes2, n_output)\n",
        "B3 = sigma * np.random.randn(n_nodes3)\n",
        "print(\"W1-->\",W1.shape)\n",
        "print(\"W2-->\",W2.shape)\n",
        "print(\"b1-->\",B1.shape)\n",
        "print(\"b2-->\",B2.shape)\n",
        "print(\"W3-->\",W3.shape)\n",
        "print(\"b3-->\",B3.shape)"
      ],
      "execution_count": null,
      "outputs": [
        {
          "output_type": "stream",
          "name": "stdout",
          "text": [
            "W1--> (784, 400)\n",
            "W2--> (400, 200)\n",
            "b1--> (400,)\n",
            "b2--> (200,)\n",
            "W3--> (200, 10)\n",
            "b3--> (10,)\n"
          ]
        }
      ]
    },
    {
      "cell_type": "markdown",
      "source": [
        "## 2. Problem the use of forward propagation"
      ],
      "metadata": {
        "id": "rBDGzZapa-2l"
      }
    },
    {
      "cell_type": "markdown",
      "source": [
        "Make a three layer neural network, please. Forward transmission. There are 400 nodes in the first layer and 200 in the second layer in the following description, but you may alter it.\n",
        "\n",
        "Below are the formulae for each layer. This time, it additionally specifies the type of ndarray shape that each symbol's corresponding array has in the implementation."
      ],
      "metadata": {
        "id": "W_aa93L4bVD5"
      }
    },
    {
      "cell_type": "code",
      "source": [
        ""
      ],
      "metadata": {
        "id": "4Y0DzAkBbb_M"
      },
      "execution_count": null,
      "outputs": []
    },
    {
      "cell_type": "code",
      "metadata": {
        "id": "QaFD5KMcCSJp"
      },
      "source": [
        "batch_size = 20 # batch size \n",
        "n_features = 784 # number of features \n",
        "n_nodes1 = 400 # number of first layer nodes \n",
        "n_nodes2 = 200 # number of second layer nodes \n",
        "n_output = 10 # number of output classes (number of nodes in the 3rd layer)"
      ],
      "execution_count": null,
      "outputs": []
    },
    {
      "cell_type": "markdown",
      "source": [
        "A new class of neural network will be developed. We will just use the most basic library, like NumPy, to implement the algorithm.\n",
        "\n",
        "This time, we'll build a multi-class classification neural network with three layers. After deciding on the number of layers, learn the fundamentals of neural networks. We will create a design that allows layers to be updated easily throughout the following Sprint.\n",
        "\n",
        "Here is a sample. This ScratchSimpleNeuralNetrowkClassifier class needs coding."
      ],
      "metadata": {
        "id": "-rIKJd2cbqrB"
      }
    },
    {
      "cell_type": "markdown",
      "source": [
        "Softmax Functions Create a softmax function and use it in forward propagation. This is another type of activation function, but it is often treated differently due to its characteristics used in the output layer of multiclass classification."
      ],
      "metadata": {
        "id": "i1nPJW4WbwN2"
      }
    },
    {
      "cell_type": "code",
      "metadata": {
        "id": "fPZT53zqECHI"
      },
      "source": [
        "class ScratchSimpleNeuralNetrowkClassifier():\n",
        "\n",
        "    def __init__(self, verbose=False):\n",
        "        self.verbose = verbose\n",
        "        self.batch_size = 20 \n",
        "        self.n_features = 784 \n",
        "        self.n_nodes1 = 400 \n",
        "        self.n_nodes2 = 200 \n",
        "        self.n_output = 10 \n",
        "        self.sigma = 0.02 \n",
        "        self.lr = 0.01 \n",
        "        self.epoch = 10 \n",
        "    \n",
        "    def fit(self, X, y, X_val=None, y_val=None):\n",
        "        self.loss_train = []\n",
        "        self.loss_test = []\n",
        "        self.W1 = self.sigma * np.random.randn(self.n_features, self.n_nodes1)\n",
        "        self.W2 = self.sigma * np.random.randn(self.n_nodes1, self.n_nodes2)\n",
        "        self.W3 = self.sigma * np.random.randn(self.n_nodes2, self.n_output)\n",
        "        self.B1 = self.sigma * np.random.randn(1, self.n_nodes1)\n",
        "        self.B2 = self.sigma * np.random.randn(1, self.n_nodes2)\n",
        "        self.B3 = self.sigma * np.random.randn(1, self.n_output)\n",
        "        \n",
        "        for _ in range(self.epoch):\n",
        "            get_mini_batch = GetMiniBatch(X, y, batch_size=20)\n",
        "            for mini_X_train, mini_y_train in get_mini_batch:\n",
        "                self.forward(mini_X_train)\n",
        "                self.backward(mini_X_train, mini_y_train)\n",
        "            self.forward(X)\n",
        "            self.loss_train.append(self.cross_entropy_error(y, self.Z3))\n",
        "            if X_val is not None:\n",
        "                self.forward(X_val)\n",
        "                self.loss_test.append(self.cross_entropy_error(y_val, self.Z3))\n",
        "\n",
        "        if self.verbose:\n",
        "            print(self.loss_train)\n",
        "    \n",
        "    def forward(self, X):\n",
        "        self.A1 = X @ self.W1 + self.B1\n",
        "        self.Z1 = self.tanh_function(self.A1)\n",
        "        self.A2 = self.Z1 @ self.W2 + self.B2\n",
        "        self.Z2 = self.sigmoid_function(self.A2)\n",
        "        self.A3 = self.Z2 @ self.W3 + self.B3\n",
        "        self.Z3 = self.softmax(self.A3)\n",
        "    \n",
        "    def backward(self, mini_X, mini_y):\n",
        "        dA3 = self.Z3 - mini_y\n",
        "        dB3 = np.sum(dA3, axis=0)\n",
        "        dW3 = self.Z2.T @ dA3\n",
        "        dZ2 = dA3 @ self.W3.T\n",
        "        dA2 = dZ2 * (1 - self.tanh_function(self.A2)**2)\n",
        "        dB2 = np.sum(dA2, axis=0)\n",
        "        dW2 = self.Z1.T @ dA2\n",
        "        dZ1 = dA2 @ self.W2.T\n",
        "        dA1 = dZ1 * (1 - self.tanh_function(self.A1)**2)\n",
        "        dB1 = np.sum(dA1, axis=0)\n",
        "        dW1 = mini_X.T @ dA1\n",
        "        self.W3 -= self.lr * dW3\n",
        "        self.B3 -= self.lr * dB3\n",
        "        self.W2 -= self.lr * dW2\n",
        "        self.B2 -= self.lr * dB2\n",
        "        self.W1 -= self.lr * dW1\n",
        "        self.B1 -= self.lr * dB1\n",
        "                \n",
        "    def sigmoid_function(self, A):\n",
        "        return 1 / (1 + np.exp(-A))\n",
        "\n",
        "    def tanh_function(self, A):\n",
        "        return np.tanh(A)\n",
        "    \n",
        "    def softmax(self, A):\n",
        "        return np.exp(A) / np.sum(np.exp(A), axis=1).reshape(-1, 1)\n",
        "\n",
        "    def cross_entropy_error(self, y, Z):\n",
        "        L = - np.sum(y * np.log(Z)) / len(y)\n",
        "        return L\n",
        "        \n",
        "    def predict(self, X):\n",
        "        self.forward(X)\n",
        "        return np.argmax(self.Z3, axis=1)"
      ],
      "execution_count": 34,
      "outputs": []
    },
    {
      "cell_type": "markdown",
      "source": [
        ""
      ],
      "metadata": {
        "id": "L79fyoFZc7_x"
      }
    },
    {
      "cell_type": "code",
      "metadata": {
        "id": "iac7i3BOc8pM"
      },
      "source": [
        "class ScratchSimpleNeuralNetrowkClassifier():\n",
        "\n",
        "    def __init__(self, verbose=False):\n",
        "        self.verbose = verbose\n",
        "        self.batch_size = 20 \n",
        "        self.n_features = 784 \n",
        "        self.n_nodes1 = 400 \n",
        "        self.n_nodes2 = 200 \n",
        "        self.n_output = 10 \n",
        "        self.sigma = 0.02 \n",
        "        self.lr = 0.01 \n",
        "        self.epoch = 10 \n",
        "    \n",
        "    def fit(self, X, y, X_val=None, y_val=None):\n",
        "        self.loss_train = []\n",
        "        self.loss_test = []\n",
        "        self.W1 = self.sigma * np.random.randn(self.n_features, self.n_nodes1)\n",
        "        self.W2 = self.sigma * np.random.randn(self.n_nodes1, self.n_nodes2)\n",
        "        self.W3 = self.sigma * np.random.randn(self.n_nodes2, self.n_output)\n",
        "        self.B1 = self.sigma * np.random.randn(1, self.n_nodes1)\n",
        "        self.B2 = self.sigma * np.random.randn(1, self.n_nodes2)\n",
        "        self.B3 = self.sigma * np.random.randn(1, self.n_output)\n",
        "        \n",
        "        for _ in range(self.epoch):\n",
        "            get_mini_batch = GetMiniBatch(X, y, batch_size=20)\n",
        "            for mini_X_train, mini_y_train in get_mini_batch:\n",
        "                self.forward(mini_X_train)\n",
        "                self.backward(mini_X_train, mini_y_train)\n",
        "            self.forward(X)\n",
        "            self.loss_train.append(self.cross_entropy_error(y, self.Z3))\n",
        "            if X_val is not None:\n",
        "                self.forward(X_val)\n",
        "                self.loss_test.append(self.cross_entropy_error(y_val, self.Z3))\n",
        "\n",
        "        if self.verbose:\n",
        "            print(self.loss_train)\n",
        "    \n",
        "    def forward(self, X):\n",
        "        self.A1 = X @ self.W1 + self.B1\n",
        "        self.Z1 = self.tanh_function(self.A1)\n",
        "        self.A2 = self.Z1 @ self.W2 + self.B2\n",
        "        self.Z2 = self.sigmoid_function(self.A2)\n",
        "        self.A3 = self.Z2 @ self.W3 + self.B3\n",
        "        self.Z3 = self.softmax(self.A3)\n",
        "    \n",
        "    def backward(self, mini_X, mini_y):\n",
        "        dA3 = self.Z3 - mini_y\n",
        "        dB3 = np.sum(dA3, axis=0)\n",
        "        dW3 = self.Z2.T @ dA3\n",
        "        dZ2 = dA3 @ self.W3.T\n",
        "        dA2 = dZ2 * (1 - self.tanh_function(self.A2)**2)\n",
        "        dB2 = np.sum(dA2, axis=0)\n",
        "        dW2 = self.Z1.T @ dA2\n",
        "        dZ1 = dA2 @ self.W2.T\n",
        "        dA1 = dZ1 * (1 - self.tanh_function(self.A1)**2)\n",
        "        dB1 = np.sum(dA1, axis=0)\n",
        "        dW1 = mini_X.T @ dA1\n",
        "        self.W3 -= self.lr * dW3\n",
        "        self.B3 -= self.lr * dB3\n",
        "        self.W2 -= self.lr * dW2\n",
        "        self.B2 -= self.lr * dB2\n",
        "        self.W1 -= self.lr * dW1\n",
        "        self.B1 -= self.lr * dB1\n",
        "                \n",
        "    def sigmoid_function(self, A):\n",
        "        return 1 / (1 + np.exp(-A))\n",
        "\n",
        "    def tanh_function(self, A):\n",
        "        return np.tanh(A)\n",
        "    \n",
        "    def softmax(self, A):\n",
        "        return np.exp(A) / np.sum(np.exp(A), axis=1).reshape(-1, 1)\n",
        "\n",
        "    def cross_entropy_error(self, y, Z):\n",
        "        L = - np.sum(y * np.log(Z)) / len(y)\n",
        "        return L\n",
        "        \n",
        "    def predict(self, X):\n",
        "        self.forward(X)\n",
        "        return np.argmax(self.Z3, axis=1)"
      ],
      "execution_count": 35,
      "outputs": []
    },
    {
      "cell_type": "markdown",
      "source": [
        ""
      ],
      "metadata": {
        "id": "l3hglNKrc_MP"
      }
    },
    {
      "cell_type": "code",
      "metadata": {
        "id": "CPK0LF7gc_4n"
      },
      "source": [
        "class ScratchSimpleNeuralNetrowkClassifier():\n",
        "\n",
        "    def __init__(self, verbose=False):\n",
        "        self.verbose = verbose\n",
        "        self.batch_size = 20 \n",
        "        self.n_features = 784 \n",
        "        self.n_nodes1 = 400 \n",
        "        self.n_nodes2 = 200 \n",
        "        self.n_output = 10 \n",
        "        self.sigma = 0.02 \n",
        "        self.lr = 0.01 \n",
        "        self.epoch = 10 \n",
        "    \n",
        "    def fit(self, X, y, X_val=None, y_val=None):\n",
        "        self.loss_train = []\n",
        "        self.loss_test = []\n",
        "        self.W1 = self.sigma * np.random.randn(self.n_features, self.n_nodes1)\n",
        "        self.W2 = self.sigma * np.random.randn(self.n_nodes1, self.n_nodes2)\n",
        "        self.W3 = self.sigma * np.random.randn(self.n_nodes2, self.n_output)\n",
        "        self.B1 = self.sigma * np.random.randn(1, self.n_nodes1)\n",
        "        self.B2 = self.sigma * np.random.randn(1, self.n_nodes2)\n",
        "        self.B3 = self.sigma * np.random.randn(1, self.n_output)\n",
        "        \n",
        "        for _ in range(self.epoch):\n",
        "            get_mini_batch = GetMiniBatch(X, y, batch_size=20)\n",
        "            for mini_X_train, mini_y_train in get_mini_batch:\n",
        "                self.forward(mini_X_train)\n",
        "                self.backward(mini_X_train, mini_y_train)\n",
        "            self.forward(X)\n",
        "            self.loss_train.append(self.cross_entropy_error(y, self.Z3))\n",
        "            if X_val is not None:\n",
        "                self.forward(X_val)\n",
        "                self.loss_test.append(self.cross_entropy_error(y_val, self.Z3))\n",
        "\n",
        "        if self.verbose:\n",
        "            print(self.loss_train)\n",
        "    \n",
        "    def forward(self, X):\n",
        "        self.A1 = X @ self.W1 + self.B1\n",
        "        self.Z1 = self.tanh_function(self.A1)\n",
        "        self.A2 = self.Z1 @ self.W2 + self.B2\n",
        "        self.Z2 = self.sigmoid_function(self.A2)\n",
        "        self.A3 = self.Z2 @ self.W3 + self.B3\n",
        "        self.Z3 = self.softmax(self.A3)\n",
        "    \n",
        "    def backward(self, mini_X, mini_y):\n",
        "        dA3 = self.Z3 - mini_y\n",
        "        dB3 = np.sum(dA3, axis=0)\n",
        "        dW3 = self.Z2.T @ dA3\n",
        "        dZ2 = dA3 @ self.W3.T\n",
        "        dA2 = dZ2 * (1 - self.tanh_function(self.A2)**2)\n",
        "        dB2 = np.sum(dA2, axis=0)\n",
        "        dW2 = self.Z1.T @ dA2\n",
        "        dZ1 = dA2 @ self.W2.T\n",
        "        dA1 = dZ1 * (1 - self.tanh_function(self.A1)**2)\n",
        "        dB1 = np.sum(dA1, axis=0)\n",
        "        dW1 = mini_X.T @ dA1\n",
        "        self.W3 -= self.lr * dW3\n",
        "        self.B3 -= self.lr * dB3\n",
        "        self.W2 -= self.lr * dW2\n",
        "        self.B2 -= self.lr * dB2\n",
        "        self.W1 -= self.lr * dW1\n",
        "        self.B1 -= self.lr * dB1\n",
        "                \n",
        "    def sigmoid_function(self, A):\n",
        "        return 1 / (1 + np.exp(-A))\n",
        "\n",
        "    def tanh_function(self, A):\n",
        "        return np.tanh(A)\n",
        "    \n",
        "    def softmax(self, A):\n",
        "        return np.exp(A) / np.sum(np.exp(A), axis=1).reshape(-1, 1)\n",
        "\n",
        "    def cross_entropy_error(self, y, Z):\n",
        "        L = - np.sum(y * np.log(Z)) / len(y)\n",
        "        return L\n",
        "        \n",
        "    def predict(self, X):\n",
        "        self.forward(X)\n",
        "        return np.argmax(self.Z3, axis=1)"
      ],
      "execution_count": 36,
      "outputs": []
    },
    {
      "cell_type": "markdown",
      "source": [
        "## 【Problem 6】Learning and estimation\n",
        "\n",
        "Train and estimate the MNIST data and calculate the Accuracy."
      ],
      "metadata": {
        "id": "6qtZlKX2dC8d"
      }
    },
    {
      "cell_type": "markdown",
      "source": [
        ""
      ],
      "metadata": {
        "id": "5FUCp2HXdChp"
      }
    },
    {
      "cell_type": "code",
      "metadata": {
        "id": "NyWN_y2fE24g"
      },
      "source": [
        "from sklearn.preprocessing import OneHotEncoder\n",
        "encoder = OneHotEncoder(handle_unknown='ignore', sparse=False)\n",
        "y_train_one_hot = encoder.fit_transform(y_train[:, np.newaxis])\n",
        "y_test_one_hot = encoder.transform(y_val[:, np.newaxis])"
      ],
      "execution_count": 37,
      "outputs": []
    },
    {
      "cell_type": "code",
      "metadata": {
        "id": "PdGm0OZLF2pp"
      },
      "source": [
        "neuralN = ScratchSimpleNeuralNetrowkClassifier()\n",
        "neuralN.fit(X_train, y_train_one_hot, X_val, y_test_one_hot)\n",
        "pred_train = neuralN.predict(X_train)\n",
        "pred_test = neuralN.predict(X_val)"
      ],
      "execution_count": null,
      "outputs": []
    },
    {
      "cell_type": "markdown",
      "source": [
        "## 【Problem 7】Learning curve plot Plot the learning curve.\n",
        "\n",
        "Checking the learning curve is important because neural networks are prone to overfitting. We need to be able to record the loss (cross entropy error) per epoch for the training and validation data."
      ],
      "metadata": {
        "id": "h3Q9KZc_doWJ"
      }
    },
    {
      "cell_type": "code",
      "metadata": {
        "id": "eQNSinf1F-9q"
      },
      "source": [
        "plt.plot(list(range(1, neuralN.epoch+1)), neuralN.loss_train, label='train')\n",
        "plt.plot(list(range(1, neuralN.epoch+1)), neuralN.loss_test, label='test')\n",
        "plt.legend()\n",
        "plt.xticks(list(range(1, neuralN.epoch+1)));"
      ],
      "execution_count": null,
      "outputs": []
    },
    {
      "cell_type": "markdown",
      "source": [
        "# [Problem 8] (Advance assignment) Confirmation of misclassification\n",
        "\n",
        "See what the misclassified image looked like. Take an estimate and run the code below."
      ],
      "metadata": {
        "id": "u75_Ak0bd6EN"
      }
    },
    {
      "cell_type": "code",
      "metadata": {
        "colab": {
          "base_uri": "https://localhost:8080/",
          "height": 468
        },
        "id": "x3b1NTR6GXu4",
        "outputId": "e7664e95-db43-4c0b-eaba-dc37f2997eb7"
      },
      "source": [
        "y_pred = pred_test\n",
        "import numpy as np\n",
        "import matplotlib.pyplot as plt\n",
        "num = 36\n",
        "true_false = y_pred==y_val\n",
        "false_list = np.where(true_false==False)[0].astype(np.int)\n",
        "if false_list.shape[0] < num:\n",
        "    num = false_list.shape[0]\n",
        "fig = plt.figure(figsize=(6, 6))\n",
        "fig.subplots_adjust(left=0, right=0.8,  bottom=0, top=0.8, hspace=1, wspace=0.5)\n",
        "for i in range(num):\n",
        "    ax = fig.add_subplot(6, 6, i + 1, xticks=[], yticks=[])\n",
        "    ax.set_title(\"{} / {}\".format(y_pred[false_list[i]],y_val[false_list[i]]))\n",
        "    ax.imshow(X_val.reshape(-1,28,28)[false_list[i]], cmap='gray')"
      ],
      "execution_count": null,
      "outputs": [
        {
          "output_type": "stream",
          "name": "stderr",
          "text": [
            "/usr/local/lib/python3.7/dist-packages/ipykernel_launcher.py:6: DeprecationWarning: `np.int` is a deprecated alias for the builtin `int`. To silence this warning, use `int` by itself. Doing this will not modify any behavior and is safe. When replacing `np.int`, you may wish to use e.g. `np.int64` or `np.int32` to specify the precision. If you wish to review your current use, check the release note link for additional information.\n",
            "Deprecated in NumPy 1.20; for more details and guidance: https://numpy.org/devdocs/release/1.20.0-notes.html#deprecations\n",
            "  \n"
          ]
        },
        {
          "output_type": "display_data",
          "data": {
            "text/plain": [
              "<Figure size 432x432 with 36 Axes>"
            ],
            "image/png": "[encoded data removed]"
          },
          "metadata": {}
        }
      ]
    },
    {
      "cell_type": "markdown",
      "source": [
        "## Recommendation\n",
        "There are several difficulties with machine learning. According to past experience, many students would opt to quit if the proper strategy is not used.   It will be beneficial if improvements are made in the following areas, given some of the difficulties encountered during the just completed course.\n",
        "\n",
        "\n",
        "The duration of the course need to be extented so that the each program will be\n",
        "exusted, before moving to the next level\n",
        "\n",
        "the duration of the session also need to be  extended A lot of code cannot be explained to beginners in one hour, with speed.\n",
        "\n",
        "Certain works and assignement need to be done in group, so that the student will have time to interact after class."
      ],
      "metadata": {
        "id": "LmX3Fbl7ikzg"
      }
    }
  ]
}